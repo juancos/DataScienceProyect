{
 "cells": [
  {
   "cell_type": "markdown",
   "metadata": {},
   "source": [
    "<center>\n",
    "    <img src=\"https://cf-courses-data.s3.us.cloud-object-storage.appdomain.cloud/IBMDeveloperSkillsNetwork-DS0105EN-SkillsNetwork/labs/Module2/images/SN_web_lightmode.png\" width=\"300\" alt=\"cognitiveclass.ai logo\">\n",
    "</center>\n"
   ]
  },
  {
   "cell_type": "markdown",
   "metadata": {},
   "source": [
    "#### Add your code below following the instructions given in the course\n"
   ]
  },
  {
   "cell_type": "code",
   "execution_count": null,
   "metadata": {},
   "outputs": [],
   "source": [
    "#Function to calculate compound interest"
   ]
  },
  {
   "cell_type": "code",
   "execution_count": 3,
   "metadata": {
    "tags": []
   },
   "outputs": [],
   "source": [
    "def calculate_compund_interest(principal, rate, time):\n",
    "    amount = principal * (1+rate)** time \n",
    "    interest = amount - principal \n",
    "    return amount, interest"
   ]
  },
  {
   "cell_type": "code",
   "execution_count": null,
   "metadata": {},
   "outputs": [],
   "source": [
    "#Main function "
   ]
  },
  {
   "cell_type": "code",
   "execution_count": 10,
   "metadata": {
    "tags": []
   },
   "outputs": [],
   "source": [
    "def main (): \n",
    "    #Get user input for principal, rate and time \n",
    "    principal = float (input(\"20800\"))\n",
    "    rate = float (input(\"5900\"))\n",
    "    time = int(input(\"19\"))\n",
    "    \n",
    "    #Calculate the compound interest \n",
    "    amount, interest = calculate_compound_interest(principal,rate, time)\n",
    "    \n",
    "    #Display the specific results \n",
    "    print(\"After {} years, the amount will be ${:.2f}\".format(time, amount))\n",
    "    print(\"Total interest earned: ${:.2f}\".format(interest))\n",
    "    \n",
    "    #Call the main function \n",
    "    main(calculate_compund_interest)\n",
    "                        \n",
    "\n",
    "                        "
   ]
  },
  {
   "cell_type": "code",
   "execution_count": null,
   "metadata": {},
   "outputs": [],
   "source": []
  }
 ],
 "metadata": {
  "kernelspec": {
   "display_name": "Python",
   "language": "python",
   "name": "conda-env-python-py"
  },
  "language_info": {
   "codemirror_mode": {
    "name": "ipython",
    "version": 3
   },
   "file_extension": ".py",
   "mimetype": "text/x-python",
   "name": "python",
   "nbconvert_exporter": "python",
   "pygments_lexer": "ipython3",
   "version": "3.7.12"
  }
 },
 "nbformat": 4,
 "nbformat_minor": 4
}
