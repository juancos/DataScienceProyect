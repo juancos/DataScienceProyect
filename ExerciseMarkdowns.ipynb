{
 "cells": [
  {
   "cell_type": "markdown",
   "id": "e91fae27",
   "metadata": {},
   "source": [
    "DATA SCIENCE TOOLS AND ECOSYSTEMS "
   ]
  },
  {
   "cell_type": "code",
   "execution_count": null,
   "id": "49d1abf1",
   "metadata": {},
   "outputs": [],
   "source": [
    "#In this notebook, Data Science Tools and Ecosystem are summarized.\n",
    "Some of the popular languages that Data Scientists use are:"
   ]
  },
  {
   "cell_type": "markdown",
   "id": "6f9c54ef",
   "metadata": {},
   "source": [
    "ordered list  by NumPY\n",
    "ordered list by Pandas\n",
    "ordered list by Matplotlib"
   ]
  },
  {
   "cell_type": "markdown",
   "id": "09acd48a",
   "metadata": {},
   "source": [
    "Data Science Tools\n",
    "Jupyter Open Source Tool \n",
    "RStudio \n",
    "Visual Studio Code\n",
    "\n"
   ]
  },
  {
   "cell_type": "code",
   "execution_count": null,
   "id": "f7b735b7",
   "metadata": {},
   "outputs": [],
   "source": []
  },
  {
   "cell_type": "raw",
   "id": "7073f3d5",
   "metadata": {},
   "source": [
    "Below are a few examples of evaluating arithmetic expressions in Python"
   ]
  },
  {
   "cell_type": "code",
   "execution_count": 1,
   "id": "491de9e6",
   "metadata": {},
   "outputs": [
    {
     "data": {
      "text/plain": [
       "17"
      ]
     },
     "execution_count": 1,
     "metadata": {},
     "output_type": "execute_result"
    }
   ],
   "source": [
    "#This is a simple arithmetic expression to mutiply then add integers\n",
    "(3*4)+5\n"
   ]
  },
  {
   "cell_type": "code",
   "execution_count": 4,
   "id": "6b926d6a",
   "metadata": {},
   "outputs": [
    {
     "data": {
      "text/plain": [
       "3.3333333333333335"
      ]
     },
     "execution_count": 4,
     "metadata": {},
     "output_type": "execute_result"
    }
   ],
   "source": [
    "#This will convert 200 minutes to hours by diving by 60\n",
    "200/60"
   ]
  },
  {
   "cell_type": "code",
   "execution_count": null,
   "id": "d9649b11",
   "metadata": {},
   "outputs": [],
   "source": [
    "#Objectives: \n",
    "unordered list\n",
    "List popular languages for Data Science\n",
    "List specific calculations for Data Science\n",
    "List the different open source and softwares\n"
   ]
  },
  {
   "cell_type": "markdown",
   "id": "84f3fc97",
   "metadata": {},
   "source": [
    "Author: Juan Jose Pardo \n"
   ]
  }
 ],
 "metadata": {
  "kernelspec": {
   "display_name": "Python 3 (ipykernel)",
   "language": "python",
   "name": "python3"
  },
  "language_info": {
   "codemirror_mode": {
    "name": "ipython",
    "version": 3
   },
   "file_extension": ".py",
   "mimetype": "text/x-python",
   "name": "python",
   "nbconvert_exporter": "python",
   "pygments_lexer": "ipython3",
   "version": "3.9.12"
  }
 },
 "nbformat": 4,
 "nbformat_minor": 5
}
